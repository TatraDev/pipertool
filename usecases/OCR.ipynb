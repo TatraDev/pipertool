{
 "cells": [
  {
   "cell_type": "code",
   "execution_count": 3,
   "id": "f2ba6da6",
   "metadata": {},
   "outputs": [],
   "source": [
    "# TODO: install from pypi or nexus\n",
    "!cp -R ../piper/ ./piper/"
   ]
  },
  {
   "cell_type": "code",
   "execution_count": 5,
   "id": "afd5d0d6",
   "metadata": {},
   "outputs": [
    {
     "name": "stdout",
     "output_type": "stream",
     "text": [
      "Collecting docker\n",
      "  Downloading docker-5.0.3-py2.py3-none-any.whl (146 kB)\n",
      "     |████████████████████████████████| 146 kB 171 kB/s            \n",
      "\u001b[?25hCollecting aiohttp\n",
      "  Downloading aiohttp-3.8.1-cp39-cp39-manylinux_2_5_x86_64.manylinux1_x86_64.manylinux_2_12_x86_64.manylinux2010_x86_64.whl (1.2 MB)\n",
      "     |████████████████████████████████| 1.2 MB 399 kB/s            \n",
      "\u001b[?25hRequirement already satisfied: Jinja2 in /opt/conda/lib/python3.9/site-packages (from -r ../requirements.txt (line 3)) (3.0.3)\n",
      "Collecting pydantic\n",
      "  Downloading pydantic-1.9.0-cp39-cp39-manylinux_2_17_x86_64.manylinux2014_x86_64.whl (12.2 MB)\n",
      "     |████████████████████████████████| 12.2 MB 1.7 MB/s            \n",
      "\u001b[?25hCollecting loguru\n",
      "  Downloading loguru-0.6.0-py3-none-any.whl (58 kB)\n",
      "     |████████████████████████████████| 58 kB 2.5 MB/s            \n",
      "\u001b[?25hRequirement already satisfied: websocket-client>=0.32.0 in /opt/conda/lib/python3.9/site-packages (from docker->-r ../requirements.txt (line 1)) (1.2.3)\n",
      "Requirement already satisfied: requests!=2.18.0,>=2.14.2 in /opt/conda/lib/python3.9/site-packages (from docker->-r ../requirements.txt (line 1)) (2.27.1)\n",
      "Collecting aiosignal>=1.1.2\n",
      "  Downloading aiosignal-1.2.0-py3-none-any.whl (8.2 kB)\n",
      "Collecting yarl<2.0,>=1.0\n",
      "  Downloading yarl-1.7.2-cp39-cp39-manylinux_2_5_x86_64.manylinux1_x86_64.manylinux_2_12_x86_64.manylinux2010_x86_64.whl (304 kB)\n",
      "     |████████████████████████████████| 304 kB 2.8 MB/s            \n",
      "\u001b[?25hRequirement already satisfied: charset-normalizer<3.0,>=2.0 in /opt/conda/lib/python3.9/site-packages (from aiohttp->-r ../requirements.txt (line 2)) (2.0.10)\n",
      "Collecting multidict<7.0,>=4.5\n",
      "  Downloading multidict-6.0.2-cp39-cp39-manylinux_2_17_x86_64.manylinux2014_x86_64.whl (114 kB)\n",
      "     |████████████████████████████████| 114 kB 3.3 MB/s            \n",
      "\u001b[?25hRequirement already satisfied: attrs>=17.3.0 in /opt/conda/lib/python3.9/site-packages (from aiohttp->-r ../requirements.txt (line 2)) (21.4.0)\n",
      "Collecting frozenlist>=1.1.1\n",
      "  Downloading frozenlist-1.3.0-cp39-cp39-manylinux_2_5_x86_64.manylinux1_x86_64.manylinux_2_17_x86_64.manylinux2014_x86_64.whl (156 kB)\n",
      "     |████████████████████████████████| 156 kB 2.4 MB/s            \n",
      "\u001b[?25hCollecting async-timeout<5.0,>=4.0.0a3\n",
      "  Downloading async_timeout-4.0.2-py3-none-any.whl (5.8 kB)\n",
      "Requirement already satisfied: MarkupSafe>=2.0 in /opt/conda/lib/python3.9/site-packages (from Jinja2->-r ../requirements.txt (line 3)) (2.0.1)\n",
      "Requirement already satisfied: typing-extensions>=3.7.4.3 in /opt/conda/lib/python3.9/site-packages (from pydantic->-r ../requirements.txt (line 4)) (4.0.1)\n",
      "Requirement already satisfied: certifi>=2017.4.17 in /opt/conda/lib/python3.9/site-packages (from requests!=2.18.0,>=2.14.2->docker->-r ../requirements.txt (line 1)) (2021.10.8)\n",
      "Requirement already satisfied: idna<4,>=2.5 in /opt/conda/lib/python3.9/site-packages (from requests!=2.18.0,>=2.14.2->docker->-r ../requirements.txt (line 1)) (3.3)\n",
      "Requirement already satisfied: urllib3<1.27,>=1.21.1 in /opt/conda/lib/python3.9/site-packages (from requests!=2.18.0,>=2.14.2->docker->-r ../requirements.txt (line 1)) (1.26.8)\n",
      "Installing collected packages: multidict, frozenlist, yarl, async-timeout, aiosignal, pydantic, loguru, docker, aiohttp\n",
      "Successfully installed aiohttp-3.8.1 aiosignal-1.2.0 async-timeout-4.0.2 docker-5.0.3 frozenlist-1.3.0 loguru-0.6.0 multidict-6.0.2 pydantic-1.9.0 yarl-1.7.2\n"
     ]
    }
   ],
   "source": [
    "!pip install -r ../requirements.txt"
   ]
  },
  {
   "cell_type": "code",
   "execution_count": 7,
   "id": "223467c6",
   "metadata": {},
   "outputs": [
    {
     "name": "stdout",
     "output_type": "stream",
     "text": [
      "Collecting fastapi\n",
      "  Downloading fastapi-0.74.1-py3-none-any.whl (53 kB)\n",
      "     |████████████████████████████████| 53 kB 726 kB/s            \n",
      "\u001b[?25hCollecting starlette==0.17.1\n",
      "  Downloading starlette-0.17.1-py3-none-any.whl (58 kB)\n",
      "     |████████████████████████████████| 58 kB 2.0 MB/s             \n",
      "\u001b[?25hRequirement already satisfied: pydantic!=1.7,!=1.7.1,!=1.7.2,!=1.7.3,!=1.8,!=1.8.1,<2.0.0,>=1.6.2 in /opt/conda/lib/python3.9/site-packages (from fastapi) (1.9.0)\n",
      "Requirement already satisfied: anyio<4,>=3.0.0 in /opt/conda/lib/python3.9/site-packages (from starlette==0.17.1->fastapi) (3.5.0)\n",
      "Requirement already satisfied: typing-extensions>=3.7.4.3 in /opt/conda/lib/python3.9/site-packages (from pydantic!=1.7,!=1.7.1,!=1.7.2,!=1.7.3,!=1.8,!=1.8.1,<2.0.0,>=1.6.2->fastapi) (4.0.1)\n",
      "Requirement already satisfied: sniffio>=1.1 in /opt/conda/lib/python3.9/site-packages (from anyio<4,>=3.0.0->starlette==0.17.1->fastapi) (1.2.0)\n",
      "Requirement already satisfied: idna>=2.8 in /opt/conda/lib/python3.9/site-packages (from anyio<4,>=3.0.0->starlette==0.17.1->fastapi) (3.3)\n",
      "Installing collected packages: starlette, fastapi\n",
      "Successfully installed fastapi-0.74.1 starlette-0.17.1\n"
     ]
    }
   ],
   "source": [
    "!pip install fastapi"
   ]
  },
  {
   "cell_type": "code",
   "execution_count": 12,
   "id": "313e9b33",
   "metadata": {},
   "outputs": [
    {
     "name": "stdout",
     "output_type": "stream",
     "text": [
      "Requirement already satisfied: opencv-python in /opt/conda/lib/python3.9/site-packages (4.5.5.62)\n",
      "Collecting pytesseract\n",
      "  Downloading pytesseract-0.3.9-py2.py3-none-any.whl (14 kB)\n",
      "Requirement already satisfied: numpy>=1.19.3 in /opt/conda/lib/python3.9/site-packages (from opencv-python) (1.21.5)\n",
      "Requirement already satisfied: packaging>=21.3 in /opt/conda/lib/python3.9/site-packages (from pytesseract) (21.3)\n",
      "Requirement already satisfied: Pillow>=8.0.0 in /opt/conda/lib/python3.9/site-packages (from pytesseract) (8.4.0)\n",
      "Requirement already satisfied: pyparsing!=3.0.5,>=2.0.2 in /opt/conda/lib/python3.9/site-packages (from packaging>=21.3->pytesseract) (3.0.6)\n",
      "Installing collected packages: pytesseract\n",
      "Successfully installed pytesseract-0.3.9\n"
     ]
    }
   ],
   "source": [
    "!pip install opencv-python pytesseract"
   ]
  },
  {
   "cell_type": "code",
   "execution_count": 18,
   "id": "4261648a",
   "metadata": {},
   "outputs": [],
   "source": [
    "from piper.services import TestMessageAdder, StringValue, TesseractRecognizer\n",
    "from piper.envs import CurrentEnv, DockerEnv\n",
    "from piper.configurations import get_configuration\n",
    "import time\n",
    "import asyncio"
   ]
  },
  {
   "cell_type": "code",
   "execution_count": 19,
   "id": "0e62bf01",
   "metadata": {},
   "outputs": [
    {
     "name": "stdout",
     "output_type": "stream",
     "text": [
      "Entering CurrentEnv\n",
      "Setting environment to: <piper.envs.CurrentEnv object at 0x7f6b00014fd0>\n",
      "get_env() <piper.envs.CurrentEnv object at 0x7f6b00014fd0>\n",
      "is_current_env() True\n",
      "value='hello, world!'\n",
      "Exiting CurrentEnv\n",
      "Setting environment to: <piper.envs.DockerEnv object at 0x7f6b00819490>\n"
     ]
    }
   ],
   "source": [
    "cfg = get_configuration()\n",
    "loop = asyncio.get_event_loop()\n",
    "with CurrentEnv() as env:\n",
    "    x = StringValue(value=\"hello, world\")\n",
    "    adder = TestMessageAdder(appender=\"!\", port=cfg.docker_app_port)\n",
    "    result = await adder(x)\n",
    "    print(result)"
   ]
  },
  {
   "cell_type": "code",
   "execution_count": 23,
   "id": "80499ace",
   "metadata": {},
   "outputs": [
    {
     "name": "stdout",
     "output_type": "stream",
     "text": [
      "Entering CurrentEnv\n",
      "Setting environment to: <piper.envs.CurrentEnv object at 0x7f6afea95040>\n",
      "get_env() <piper.envs.CurrentEnv object at 0x7f6afea95040>\n",
      "is_current_env() True\n",
      "1\n",
      "{1: 1}\n",
      "Exiting CurrentEnv\n",
      "Setting environment to: <piper.envs.DockerEnv object at 0x7f6b00819490>\n"
     ]
    },
    {
     "name": "stderr",
     "output_type": "stream",
     "text": [
      "/tmp/ipykernel_29/3635331722.py:3: RuntimeWarning: coroutine 'HTTPExecutor.__call__' was never awaited\n",
      "  result = await recognizer(\"../tests/ocr_data.jpg\")\n",
      "RuntimeWarning: Enable tracemalloc to get the object allocation traceback\n"
     ]
    }
   ],
   "source": [
    "# TODO: automate environment\n",
    "with CurrentEnv() as env:\n",
    "    recognizer = TesseractRecognizer(port=cfg.docker_app_port)\n",
    "    result = await recognizer(\"../tests/ocr_data.jpg\")\n",
    "    print(result)"
   ]
  },
  {
   "cell_type": "code",
   "execution_count": null,
   "id": "34c7db2b",
   "metadata": {},
   "outputs": [],
   "source": []
  }
 ],
 "metadata": {
  "kernelspec": {
   "display_name": "Python 3 (ipykernel)",
   "language": "python",
   "name": "python3"
  },
  "language_info": {
   "codemirror_mode": {
    "name": "ipython",
    "version": 3
   },
   "file_extension": ".py",
   "mimetype": "text/x-python",
   "name": "python",
   "nbconvert_exporter": "python",
   "pygments_lexer": "ipython3",
   "version": "3.9.7"
  }
 },
 "nbformat": 4,
 "nbformat_minor": 5
}
